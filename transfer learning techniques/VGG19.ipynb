{
 "cells": [
  {
   "cell_type": "code",
   "execution_count": 1,
   "id": "e3496521-1685-44c8-a303-50de630f2354",
   "metadata": {},
   "outputs": [],
   "source": [
    "# import the libraries as shown below\n",
    "\n",
    "from tensorflow.keras.layers import Input, Lambda, Dense, Flatten,Conv2D\n",
    "from tensorflow.keras.models import Model\n",
    "from tensorflow.keras.applications.vgg19 import VGG19\n",
    "from tensorflow.keras.applications.resnet50 import preprocess_input\n",
    "from tensorflow.keras.preprocessing import image\n",
    "from tensorflow.keras.preprocessing.image import ImageDataGenerator,load_img\n",
    "from tensorflow.keras.models import Sequential\n",
    "import numpy as np\n",
    "from glob import glob\n",
    "import matplotlib.pyplot as plt"
   ]
  },
  {
   "cell_type": "code",
   "execution_count": 2,
   "id": "2f0fd049-b219-482a-b6b5-e2857e53f2ea",
   "metadata": {},
   "outputs": [],
   "source": [
    "# re-size all the images to this\n",
    "IMAGE_SIZE = [224, 224]\n",
    "\n",
    "train_path = 'train'\n",
    "valid_path = 'test'"
   ]
  },
  {
   "cell_type": "code",
   "execution_count": 3,
   "id": "120f69da-7fed-4cee-89f5-1336e6507322",
   "metadata": {},
   "outputs": [],
   "source": [
    "# Import the Vgg 19 library as shown below and add preprocessing layer to the front of VGG\n",
    "# Here we will be using imagenet weights\n",
    "\n",
    "vgg19 = VGG19(input_shape=IMAGE_SIZE + [3], weights='imagenet', include_top=False)"
   ]
  },
  {
   "cell_type": "code",
   "execution_count": 5,
   "id": "6e5f27f0-573e-4f11-aee1-20e7988ee75e",
   "metadata": {},
   "outputs": [],
   "source": [
    "# don't train existing weights\n",
    "for layer in vgg19.layers:\n",
    "    layer.trainable = False"
   ]
  },
  {
   "cell_type": "code",
   "execution_count": 6,
   "id": "1f47d996-8db1-4fe7-a784-9d8bda44ddfc",
   "metadata": {},
   "outputs": [],
   "source": [
    "# our layers - you can add more if you want\n",
    "x = Flatten()(vgg19.output)"
   ]
  },
  {
   "cell_type": "code",
   "execution_count": 7,
   "id": "e826f52f-0adf-480b-a2c7-787935696846",
   "metadata": {},
   "outputs": [],
   "source": [
    "  # useful for getting number of output classes\n",
    "folders = glob('train/*')"
   ]
  },
  {
   "cell_type": "code",
   "execution_count": 8,
   "id": "86030180-9172-4832-af13-a76b30a24cf3",
   "metadata": {},
   "outputs": [
    {
     "data": {
      "text/plain": [
       "['train\\\\degree0', 'train\\\\degree1', 'train\\\\degree2']"
      ]
     },
     "execution_count": 8,
     "metadata": {},
     "output_type": "execute_result"
    }
   ],
   "source": [
    "folders"
   ]
  },
  {
   "cell_type": "code",
   "execution_count": 9,
   "id": "fc20df6d-d620-448b-9497-d93dc899fa2e",
   "metadata": {},
   "outputs": [],
   "source": [
    "prediction = Dense(len(folders), activation='softmax')(x)\n",
    "\n",
    "# create a model object\n",
    "model = Model(inputs=vgg19.input, outputs=prediction)"
   ]
  },
  {
   "cell_type": "code",
   "execution_count": 10,
   "id": "b336a36d-3da3-464b-a002-9876607fcd61",
   "metadata": {},
   "outputs": [
    {
     "name": "stdout",
     "output_type": "stream",
     "text": [
      "Model: \"model\"\n",
      "_________________________________________________________________\n",
      " Layer (type)                Output Shape              Param #   \n",
      "=================================================================\n",
      " input_1 (InputLayer)        [(None, 224, 224, 3)]     0         \n",
      "                                                                 \n",
      " block1_conv1 (Conv2D)       (None, 224, 224, 64)      1792      \n",
      "                                                                 \n",
      " block1_conv2 (Conv2D)       (None, 224, 224, 64)      36928     \n",
      "                                                                 \n",
      " block1_pool (MaxPooling2D)  (None, 112, 112, 64)      0         \n",
      "                                                                 \n",
      " block2_conv1 (Conv2D)       (None, 112, 112, 128)     73856     \n",
      "                                                                 \n",
      " block2_conv2 (Conv2D)       (None, 112, 112, 128)     147584    \n",
      "                                                                 \n",
      " block2_pool (MaxPooling2D)  (None, 56, 56, 128)       0         \n",
      "                                                                 \n",
      " block3_conv1 (Conv2D)       (None, 56, 56, 256)       295168    \n",
      "                                                                 \n",
      " block3_conv2 (Conv2D)       (None, 56, 56, 256)       590080    \n",
      "                                                                 \n",
      " block3_conv3 (Conv2D)       (None, 56, 56, 256)       590080    \n",
      "                                                                 \n",
      " block3_conv4 (Conv2D)       (None, 56, 56, 256)       590080    \n",
      "                                                                 \n",
      " block3_pool (MaxPooling2D)  (None, 28, 28, 256)       0         \n",
      "                                                                 \n",
      " block4_conv1 (Conv2D)       (None, 28, 28, 512)       1180160   \n",
      "                                                                 \n",
      " block4_conv2 (Conv2D)       (None, 28, 28, 512)       2359808   \n",
      "                                                                 \n",
      " block4_conv3 (Conv2D)       (None, 28, 28, 512)       2359808   \n",
      "                                                                 \n",
      " block4_conv4 (Conv2D)       (None, 28, 28, 512)       2359808   \n",
      "                                                                 \n",
      " block4_pool (MaxPooling2D)  (None, 14, 14, 512)       0         \n",
      "                                                                 \n",
      " block5_conv1 (Conv2D)       (None, 14, 14, 512)       2359808   \n",
      "                                                                 \n",
      " block5_conv2 (Conv2D)       (None, 14, 14, 512)       2359808   \n",
      "                                                                 \n",
      " block5_conv3 (Conv2D)       (None, 14, 14, 512)       2359808   \n",
      "                                                                 \n",
      " block5_conv4 (Conv2D)       (None, 14, 14, 512)       2359808   \n",
      "                                                                 \n",
      " block5_pool (MaxPooling2D)  (None, 7, 7, 512)         0         \n",
      "                                                                 \n",
      " flatten (Flatten)           (None, 25088)             0         \n",
      "                                                                 \n",
      " dense (Dense)               (None, 3)                 75267     \n",
      "                                                                 \n",
      "=================================================================\n",
      "Total params: 20,099,651\n",
      "Trainable params: 75,267\n",
      "Non-trainable params: 20,024,384\n",
      "_________________________________________________________________\n"
     ]
    }
   ],
   "source": [
    "# view the structure of the model\n",
    "model.summary()"
   ]
  },
  {
   "cell_type": "code",
   "execution_count": 11,
   "id": "ad08b301-ea52-4099-91cf-27b55774ff0b",
   "metadata": {},
   "outputs": [],
   "source": [
    "# tell the model what cost and optimization method to use\n",
    "model.compile(\n",
    "  loss='categorical_crossentropy',\n",
    "  optimizer='adam',\n",
    "  metrics=['accuracy']\n",
    ")"
   ]
  },
  {
   "cell_type": "code",
   "execution_count": 12,
   "id": "6f0fb58a-36ca-42fe-8acd-59b401dc1259",
   "metadata": {},
   "outputs": [],
   "source": [
    "\n",
    "# Use the Image Data Generator to import the images from the dataset\n",
    "from tensorflow.keras.preprocessing.image import ImageDataGenerator\n",
    "\n",
    "train_datagen = ImageDataGenerator(rescale = 1./255,\n",
    "                                   shear_range = 0.2,\n",
    "                                   zoom_range = 0.2,\n",
    "                                   horizontal_flip = True)\n",
    "\n",
    "test_datagen = ImageDataGenerator(rescale = 1./255)"
   ]
  },
  {
   "cell_type": "code",
   "execution_count": 13,
   "id": "d2eff0d2-023f-4476-a525-4b6c89dbed4f",
   "metadata": {},
   "outputs": [
    {
     "name": "stdout",
     "output_type": "stream",
     "text": [
      "Found 920 images belonging to 3 classes.\n"
     ]
    }
   ],
   "source": [
    "# Make sure you provide the same target size as initialied for the image size\n",
    "training_set = train_datagen.flow_from_directory('C:/Users/Madhur/Desktop/Skin burn analysis (Hackathon)/train',\n",
    "                                                 target_size = (224, 224),\n",
    "                                                 batch_size = 32,\n",
    "                                                 class_mode = 'categorical')"
   ]
  },
  {
   "cell_type": "code",
   "execution_count": 14,
   "id": "ae95dab7-c110-4fe5-af55-acd1d1b480ee",
   "metadata": {},
   "outputs": [
    {
     "data": {
      "text/plain": [
       "<keras.preprocessing.image.DirectoryIterator at 0x2116ae72580>"
      ]
     },
     "execution_count": 14,
     "metadata": {},
     "output_type": "execute_result"
    }
   ],
   "source": [
    "training_set"
   ]
  },
  {
   "cell_type": "code",
   "execution_count": 16,
   "id": "6f3ba440-64c6-41f9-8905-03ce7d12b870",
   "metadata": {},
   "outputs": [
    {
     "name": "stdout",
     "output_type": "stream",
     "text": [
      "Found 540 images belonging to 3 classes.\n"
     ]
    }
   ],
   "source": [
    "test_set = test_datagen.flow_from_directory('C:/Users/Madhur/Desktop/Skin burn analysis (Hackathon)/test',\n",
    "                                            target_size = (224, 224),\n",
    "                                            batch_size = 32,\n",
    "                                            class_mode = 'categorical')"
   ]
  },
  {
   "cell_type": "code",
   "execution_count": 17,
   "id": "61fbb8ff-ba99-454f-9c29-faf4a1e5ca3f",
   "metadata": {},
   "outputs": [
    {
     "name": "stderr",
     "output_type": "stream",
     "text": [
      "C:\\Users\\Madhur\\AppData\\Local\\Temp\\ipykernel_12352\\4008731854.py:3: UserWarning: `Model.fit_generator` is deprecated and will be removed in a future version. Please use `Model.fit`, which supports generators.\n",
      "  r = model.fit_generator(\n"
     ]
    },
    {
     "name": "stdout",
     "output_type": "stream",
     "text": [
      "Epoch 1/50\n",
      "29/29 [==============================] - 288s 10s/step - loss: 1.2238 - accuracy: 0.5098 - val_loss: 0.7657 - val_accuracy: 0.6630\n",
      "Epoch 2/50\n",
      "29/29 [==============================] - 257s 9s/step - loss: 0.7676 - accuracy: 0.6620 - val_loss: 0.5898 - val_accuracy: 0.7500\n",
      "Epoch 3/50\n",
      "29/29 [==============================] - 251s 9s/step - loss: 0.6356 - accuracy: 0.7293 - val_loss: 0.4651 - val_accuracy: 0.8130\n",
      "Epoch 4/50\n",
      "29/29 [==============================] - 299s 10s/step - loss: 0.5479 - accuracy: 0.7750 - val_loss: 0.3971 - val_accuracy: 0.8574\n",
      "Epoch 5/50\n",
      "29/29 [==============================] - 268s 9s/step - loss: 0.4990 - accuracy: 0.8054 - val_loss: 0.3662 - val_accuracy: 0.8796\n",
      "Epoch 6/50\n",
      "29/29 [==============================] - 247s 9s/step - loss: 0.4725 - accuracy: 0.8033 - val_loss: 0.3671 - val_accuracy: 0.8759\n",
      "Epoch 7/50\n",
      "29/29 [==============================] - 245s 9s/step - loss: 0.4210 - accuracy: 0.8380 - val_loss: 0.2960 - val_accuracy: 0.9056\n",
      "Epoch 8/50\n",
      "29/29 [==============================] - 246s 9s/step - loss: 0.4139 - accuracy: 0.8424 - val_loss: 0.5209 - val_accuracy: 0.7685\n",
      "Epoch 9/50\n",
      "29/29 [==============================] - 245s 9s/step - loss: 0.3674 - accuracy: 0.8609 - val_loss: 0.3585 - val_accuracy: 0.8593\n",
      "Epoch 10/50\n",
      "29/29 [==============================] - 246s 9s/step - loss: 0.3677 - accuracy: 0.8609 - val_loss: 0.3547 - val_accuracy: 0.8500\n",
      "Epoch 11/50\n",
      "29/29 [==============================] - 248s 9s/step - loss: 0.3461 - accuracy: 0.8652 - val_loss: 0.2433 - val_accuracy: 0.9074\n",
      "Epoch 12/50\n",
      "29/29 [==============================] - 266s 9s/step - loss: 0.2950 - accuracy: 0.8957 - val_loss: 0.2731 - val_accuracy: 0.9185\n",
      "Epoch 13/50\n",
      "29/29 [==============================] - 271s 9s/step - loss: 0.2797 - accuracy: 0.9011 - val_loss: 0.2937 - val_accuracy: 0.8741\n",
      "Epoch 14/50\n",
      "29/29 [==============================] - 307s 11s/step - loss: 0.2816 - accuracy: 0.9130 - val_loss: 0.2149 - val_accuracy: 0.9204\n",
      "Epoch 15/50\n",
      "29/29 [==============================] - 298s 10s/step - loss: 0.2465 - accuracy: 0.9250 - val_loss: 0.2136 - val_accuracy: 0.9204\n",
      "Epoch 16/50\n",
      "29/29 [==============================] - 280s 10s/step - loss: 0.2870 - accuracy: 0.8913 - val_loss: 0.2049 - val_accuracy: 0.9333\n",
      "Epoch 17/50\n",
      "29/29 [==============================] - 280s 10s/step - loss: 0.2396 - accuracy: 0.9196 - val_loss: 0.1846 - val_accuracy: 0.9426\n",
      "Epoch 18/50\n",
      "29/29 [==============================] - 280s 10s/step - loss: 0.2358 - accuracy: 0.9239 - val_loss: 0.1835 - val_accuracy: 0.9444\n",
      "Epoch 19/50\n",
      "29/29 [==============================] - 278s 10s/step - loss: 0.2431 - accuracy: 0.9152 - val_loss: 0.2091 - val_accuracy: 0.9315\n",
      "Epoch 20/50\n",
      "29/29 [==============================] - 280s 10s/step - loss: 0.2362 - accuracy: 0.9196 - val_loss: 0.2660 - val_accuracy: 0.8889\n",
      "Epoch 21/50\n",
      "29/29 [==============================] - 276s 10s/step - loss: 0.3052 - accuracy: 0.8728 - val_loss: 0.2133 - val_accuracy: 0.9296\n",
      "Epoch 22/50\n",
      "29/29 [==============================] - 277s 10s/step - loss: 0.2135 - accuracy: 0.9293 - val_loss: 0.2402 - val_accuracy: 0.9148\n",
      "Epoch 23/50\n",
      "29/29 [==============================] - 290s 10s/step - loss: 0.2211 - accuracy: 0.9239 - val_loss: 0.2336 - val_accuracy: 0.9204\n",
      "Epoch 24/50\n",
      "29/29 [==============================] - 319s 11s/step - loss: 0.2452 - accuracy: 0.8967 - val_loss: 0.1720 - val_accuracy: 0.9444\n",
      "Epoch 25/50\n",
      "29/29 [==============================] - 321s 11s/step - loss: 0.2415 - accuracy: 0.9054 - val_loss: 0.2729 - val_accuracy: 0.8907\n",
      "Epoch 26/50\n",
      "29/29 [==============================] - 320s 11s/step - loss: 0.2393 - accuracy: 0.9076 - val_loss: 0.2779 - val_accuracy: 0.8833\n",
      "Epoch 27/50\n",
      "29/29 [==============================] - 237s 8s/step - loss: 0.2397 - accuracy: 0.9120 - val_loss: 0.1756 - val_accuracy: 0.9426\n",
      "Epoch 28/50\n",
      "29/29 [==============================] - 226s 8s/step - loss: 0.1945 - accuracy: 0.9359 - val_loss: 0.2859 - val_accuracy: 0.8926\n",
      "Epoch 29/50\n",
      "29/29 [==============================] - 226s 8s/step - loss: 0.2195 - accuracy: 0.9250 - val_loss: 0.1540 - val_accuracy: 0.9500\n",
      "Epoch 30/50\n",
      "29/29 [==============================] - 226s 8s/step - loss: 0.2357 - accuracy: 0.9098 - val_loss: 0.1837 - val_accuracy: 0.9222\n",
      "Epoch 31/50\n",
      "29/29 [==============================] - 225s 8s/step - loss: 0.1995 - accuracy: 0.9326 - val_loss: 0.1333 - val_accuracy: 0.9593\n",
      "Epoch 32/50\n",
      "29/29 [==============================] - 226s 8s/step - loss: 0.1831 - accuracy: 0.9359 - val_loss: 0.1573 - val_accuracy: 0.9574\n",
      "Epoch 33/50\n",
      "29/29 [==============================] - 228s 8s/step - loss: 0.1658 - accuracy: 0.9522 - val_loss: 0.1211 - val_accuracy: 0.9611\n",
      "Epoch 34/50\n",
      "29/29 [==============================] - 241s 8s/step - loss: 0.1611 - accuracy: 0.9467 - val_loss: 0.1315 - val_accuracy: 0.9481\n",
      "Epoch 35/50\n",
      "29/29 [==============================] - 257s 9s/step - loss: 0.1796 - accuracy: 0.9402 - val_loss: 0.1129 - val_accuracy: 0.9556\n",
      "Epoch 36/50\n",
      "29/29 [==============================] - 246s 9s/step - loss: 0.1674 - accuracy: 0.9446 - val_loss: 0.1761 - val_accuracy: 0.9333\n",
      "Epoch 37/50\n",
      "29/29 [==============================] - 238s 8s/step - loss: 0.1767 - accuracy: 0.9380 - val_loss: 0.1353 - val_accuracy: 0.9574\n",
      "Epoch 38/50\n",
      "29/29 [==============================] - 186s 6s/step - loss: 0.1919 - accuracy: 0.9359 - val_loss: 0.2162 - val_accuracy: 0.9259\n",
      "Epoch 39/50\n",
      "29/29 [==============================] - 124s 4s/step - loss: 0.1580 - accuracy: 0.9511 - val_loss: 0.1368 - val_accuracy: 0.9630\n",
      "Epoch 40/50\n",
      "29/29 [==============================] - 123s 4s/step - loss: 0.1764 - accuracy: 0.9370 - val_loss: 0.1125 - val_accuracy: 0.9667\n",
      "Epoch 41/50\n",
      "29/29 [==============================] - 123s 4s/step - loss: 0.1803 - accuracy: 0.9228 - val_loss: 0.3063 - val_accuracy: 0.8796\n",
      "Epoch 42/50\n",
      "29/29 [==============================] - 123s 4s/step - loss: 0.1803 - accuracy: 0.9304 - val_loss: 0.1333 - val_accuracy: 0.9537\n",
      "Epoch 43/50\n",
      "29/29 [==============================] - 123s 4s/step - loss: 0.1584 - accuracy: 0.9500 - val_loss: 0.1876 - val_accuracy: 0.9352\n",
      "Epoch 44/50\n",
      "29/29 [==============================] - 123s 4s/step - loss: 0.1365 - accuracy: 0.9565 - val_loss: 0.1406 - val_accuracy: 0.9630\n",
      "Epoch 45/50\n",
      "29/29 [==============================] - 123s 4s/step - loss: 0.1462 - accuracy: 0.9489 - val_loss: 0.0955 - val_accuracy: 0.9611\n",
      "Epoch 46/50\n",
      "29/29 [==============================] - 124s 4s/step - loss: 0.1259 - accuracy: 0.9609 - val_loss: 0.0928 - val_accuracy: 0.9630\n",
      "Epoch 47/50\n",
      "29/29 [==============================] - 124s 4s/step - loss: 0.1376 - accuracy: 0.9489 - val_loss: 0.1224 - val_accuracy: 0.9611\n",
      "Epoch 48/50\n",
      "29/29 [==============================] - 130s 5s/step - loss: 0.1351 - accuracy: 0.9565 - val_loss: 0.0956 - val_accuracy: 0.9630\n",
      "Epoch 49/50\n",
      "29/29 [==============================] - 123s 4s/step - loss: 0.1354 - accuracy: 0.9533 - val_loss: 0.1179 - val_accuracy: 0.9630\n",
      "Epoch 50/50\n",
      "29/29 [==============================] - 127s 4s/step - loss: 0.1383 - accuracy: 0.9533 - val_loss: 0.1470 - val_accuracy: 0.9444\n"
     ]
    }
   ],
   "source": [
    "\n",
    "# fit the model\n",
    "# Run the cell. It will take some time to execute\n",
    "r = model.fit_generator(\n",
    "  training_set,\n",
    "  validation_data=test_set,\n",
    "  epochs=50,\n",
    "  steps_per_epoch=len(training_set),\n",
    "  validation_steps=len(test_set)\n",
    ")"
   ]
  },
  {
   "cell_type": "code",
   "execution_count": 18,
   "id": "0b738b42-2ff9-442b-b6f8-96ac2d828112",
   "metadata": {},
   "outputs": [
    {
     "data": {
      "image/png": "[encoded data removed]",
      "text/plain": [
       "<Figure size 432x288 with 1 Axes>"
      ]
     },
     "metadata": {
      "needs_background": "light"
     },
     "output_type": "display_data"
    },
    {
     "data": {
      "image/png": "[encoded data removed]",
      "text/plain": [
       "<Figure size 432x288 with 1 Axes>"
      ]
     },
     "metadata": {
      "needs_background": "light"
     },
     "output_type": "display_data"
    },
    {
     "data": {
      "text/plain": [
       "<Figure size 432x288 with 0 Axes>"
      ]
     },
     "metadata": {},
     "output_type": "display_data"
    }
   ],
   "source": [
    "# plot the loss\n",
    "plt.plot(r.history['loss'], label='train loss')\n",
    "plt.plot(r.history['val_loss'], label='val loss')\n",
    "plt.legend()\n",
    "plt.show()\n",
    "plt.savefig('LossVal_loss')\n",
    "\n",
    "# plot the accuracy\n",
    "plt.plot(r.history['accuracy'], label='train acc')\n",
    "plt.plot(r.history['val_accuracy'], label='val acc')\n",
    "plt.legend()\n",
    "plt.show()\n",
    "plt.savefig('AccVal_acc')"
   ]
  },
  {
   "cell_type": "code",
   "execution_count": 19,
   "id": "fb13e5b6-b309-47bf-a248-04171be0886d",
   "metadata": {},
   "outputs": [],
   "source": [
    "model.save(\"vgg19_model.hdf5\")"
   ]
  },
  {
   "cell_type": "code",
   "execution_count": null,
   "id": "859e7844",
   "metadata": {},
   "outputs": [],
   "source": []
  }
 ],
 "metadata": {
  "kernelspec": {
   "display_name": "Python 3 (ipykernel)",
   "language": "python",
   "name": "python3"
  },
  "language_info": {
   "codemirror_mode": {
    "name": "ipython",
    "version": 3
   },
   "file_extension": ".py",
   "mimetype": "text/x-python",
   "name": "python",
   "nbconvert_exporter": "python",
   "pygments_lexer": "ipython3",
   "version": "3.9.12"
  }
 },
 "nbformat": 4,
 "nbformat_minor": 5
}
